{
  "nbformat": 4,
  "nbformat_minor": 0,
  "metadata": {
    "colab": {
      "provenance": []
    },
    "kernelspec": {
      "name": "python3",
      "display_name": "Python 3"
    },
    "language_info": {
      "name": "python"
    }
  },
  "cells": [
    {
      "cell_type": "markdown",
      "source": [
        "# **NLP: Name Classifier**\n",
        ""
      ],
      "metadata": {
        "id": "R5BKiQQbabv_"
      }
    },
    {
      "cell_type": "code",
      "source": [
        "!pip install my_module\n",
        "# !pip install nltk\n",
        "# !pip install seaborn"
      ],
      "metadata": {
        "id": "4u7vO_qJTmbG",
        "colab": {
          "base_uri": "https://localhost:8080/"
        },
        "outputId": "c1359064-bb58-4399-fea8-2ba1621138f5"
      },
      "execution_count": 1,
      "outputs": [
        {
          "output_type": "stream",
          "name": "stdout",
          "text": [
            "Collecting my_module\n",
            "  Downloading my_module-1.6.2.zip (967 bytes)\n",
            "  Preparing metadata (setup.py) ... \u001b[?25l\u001b[?25hdone\n",
            "Building wheels for collected packages: my_module\n",
            "  Building wheel for my_module (setup.py) ... \u001b[?25l\u001b[?25hdone\n",
            "  Created wheel for my_module: filename=my_module-1.6.2-py3-none-any.whl size=1404 sha256=f879bf693edd0393ae1777c808cf77fb4a35ea868ef78dfa9d54005143461584\n",
            "  Stored in directory: /root/.cache/pip/wheels/ea/6f/99/8a43d4d21ab49e14293e432ea3587ec33b41e6685c86f82a88\n",
            "Successfully built my_module\n",
            "Installing collected packages: my_module\n",
            "Successfully installed my_module-1.6.2\n"
          ]
        }
      ]
    },
    {
      "cell_type": "code",
      "source": [
        "# Import Libraries\n",
        "\n",
        "import numpy as np\n",
        "np.random.seed(40) # Set seeds for reproducibility\n",
        "import nltk\n",
        "from nltk.corpus import names\n",
        "from nltk.classify import apply_features\n",
        "from nltk.classify.scikitlearn import SklearnClassifier\n",
        "from sklearn.naive_bayes import MultinomialNB\n",
        "import random\n",
        "random.seed(40)\n",
        "from collections import Counter\n",
        "import my_module\n",
        "from sklearn.metrics import classification_report, confusion_matrix, ConfusionMatrixDisplay\n",
        "import matplotlib.pyplot as plt\n",
        "import sklearn.model_selection\n",
        "from nltk.classify import DecisionTreeClassifier\n",
        "import math\n",
        "import pandas as pd\n",
        "import seaborn as sns\n",
        "import matplotlib.pyplot as plt\n"
      ],
      "metadata": {
        "id": "6PWxlATnvAhx"
      },
      "execution_count": 2,
      "outputs": []
    },
    {
      "cell_type": "markdown",
      "source": [
        "We use the data provided in NLTK."
      ],
      "metadata": {
        "id": "-lp89CF0vGWx"
      }
    },
    {
      "cell_type": "markdown",
      "source": [
        "## Load Names Corpus Dataset"
      ],
      "metadata": {
        "id": "1nyMz7dIa1GB"
      }
    },
    {
      "cell_type": "markdown",
      "source": [
        "### Prepare Data"
      ],
      "metadata": {
        "id": "VgsT2b3VvNyG"
      }
    },
    {
      "cell_type": "code",
      "source": [
        "nltk.download(\"names\")"
      ],
      "metadata": {
        "id": "RrV_qCBHbAne",
        "colab": {
          "base_uri": "https://localhost:8080/"
        },
        "outputId": "f47acb8c-eb79-4013-c941-d87ac50fd390"
      },
      "execution_count": 3,
      "outputs": [
        {
          "output_type": "stream",
          "name": "stderr",
          "text": [
            "[nltk_data] Downloading package names to /root/nltk_data...\n",
            "[nltk_data]   Unzipping corpora/names.zip.\n"
          ]
        },
        {
          "output_type": "execute_result",
          "data": {
            "text/plain": [
              "True"
            ]
          },
          "metadata": {},
          "execution_count": 3
        }
      ]
    },
    {
      "cell_type": "markdown",
      "source": [
        "We need to prepare a list of examples and corresponding class labels."
      ],
      "metadata": {
        "id": "tmKgINc0wM_p"
      }
    },
    {
      "cell_type": "code",
      "source": [
        "labeled_names = ([(name, 'male') for name in names.words('male.txt')] +\n",
        "                 [(name, 'female') for name in names.words('female.txt')])\n",
        "random.shuffle(labeled_names)"
      ],
      "metadata": {
        "id": "AORE04eEwWIp"
      },
      "execution_count": 4,
      "outputs": []
    },
    {
      "cell_type": "code",
      "source": [
        "labeled_names[0:10]"
      ],
      "metadata": {
        "colab": {
          "base_uri": "https://localhost:8080/"
        },
        "id": "YZXE9oDLwnh7",
        "outputId": "d9ec2086-0f6c-4afe-ed4d-eca50b21c019"
      },
      "execution_count": 5,
      "outputs": [
        {
          "output_type": "execute_result",
          "data": {
            "text/plain": [
              "[('Arvind', 'male'),\n",
              " ('Lanette', 'female'),\n",
              " ('Jilly', 'female'),\n",
              " ('Voltaire', 'male'),\n",
              " ('Kirsten', 'female'),\n",
              " ('Sumner', 'male'),\n",
              " ('Roxie', 'female'),\n",
              " ('Bernie', 'female'),\n",
              " ('Adah', 'female'),\n",
              " ('Brian', 'male')]"
            ]
          },
          "metadata": {},
          "execution_count": 5
        }
      ]
    },
    {
      "cell_type": "code",
      "source": [
        "#check class balance\n",
        "male_count = sum(1 for _, gender in labeled_names if gender == 'male')\n",
        "female_count = sum(1 for _, gender in labeled_names if gender == 'female')\n",
        "\n",
        "male_count, female_count"
      ],
      "metadata": {
        "colab": {
          "base_uri": "https://localhost:8080/"
        },
        "id": "zwVk-W1dGOWI",
        "outputId": "779e1d1c-dc45-4b5c-bf09-5dcb39c04644"
      },
      "execution_count": 24,
      "outputs": [
        {
          "output_type": "execute_result",
          "data": {
            "text/plain": [
              "(2943, 5001)"
            ]
          },
          "metadata": {},
          "execution_count": 24
        }
      ]
    },
    {
      "cell_type": "markdown",
      "source": [
        "Next step in creating a classifier is deciding what features of the input are relevant, and how to encode those features. For this example, we'll start by just looking at the final letter of a given name. The following feature extractor function builds a dictionary containing relevant information about a given name:"
      ],
      "metadata": {
        "id": "-y8HNPaTwcnI"
      }
    },
    {
      "cell_type": "code",
      "source": [
        "def gender_features(word):\n",
        "     return {'last_letter': word[-1]}\n",
        "gender_features('Shrek')\n",
        "{'last_letter': 'k'}"
      ],
      "metadata": {
        "colab": {
          "base_uri": "https://localhost:8080/"
        },
        "id": "TcOTDn2wwknu",
        "outputId": "c706f552-f0bf-4e1d-a4c9-cab8ef71389e"
      },
      "execution_count": 6,
      "outputs": [
        {
          "output_type": "execute_result",
          "data": {
            "text/plain": [
              "{'last_letter': 'k'}"
            ]
          },
          "metadata": {},
          "execution_count": 6
        }
      ]
    },
    {
      "cell_type": "markdown",
      "source": [
        "The returned dictionary, known as a feature set, maps from feature names to their values. Feature names are case-sensitive strings that typically provide a short human-readable description of the feature, as in the example 'last_letter'. Feature values are values with simple types, such as booleans, numbers, and strings."
      ],
      "metadata": {
        "id": "-HIUlK-fwpxQ"
      }
    },
    {
      "cell_type": "markdown",
      "source": [
        "We use the feature extractor to process the names data, and divide the resulting list of feature sets into a training set and a test set. The training set is used to train a new \"naive Bayes\" classifier."
      ],
      "metadata": {
        "id": "aMpacuIcwsvM"
      }
    },
    {
      "cell_type": "code",
      "source": [
        "featuresets = [(gender_features(n), gender) for (n, gender) in labeled_names]\n",
        "train_set, test_set = featuresets[500:], featuresets[:500]\n",
        "classifier = nltk.NaiveBayesClassifier.train(train_set)"
      ],
      "metadata": {
        "id": "F0iqGEpKw4Eq"
      },
      "execution_count": 7,
      "outputs": []
    },
    {
      "cell_type": "markdown",
      "source": [
        "Test it out on some names that did not appear in its training data:"
      ],
      "metadata": {
        "id": "QDi1rc5aw8fY"
      }
    },
    {
      "cell_type": "code",
      "source": [
        "classifier.classify(gender_features('Neo'))\n",
        "'male'"
      ],
      "metadata": {
        "colab": {
          "base_uri": "https://localhost:8080/",
          "height": 35
        },
        "id": "8FvntFOvxBbU",
        "outputId": "6fd39c87-2e87-40b1-c539-87311b74ed49"
      },
      "execution_count": 8,
      "outputs": [
        {
          "output_type": "execute_result",
          "data": {
            "text/plain": [
              "'male'"
            ],
            "application/vnd.google.colaboratory.intrinsic+json": {
              "type": "string"
            }
          },
          "metadata": {},
          "execution_count": 8
        }
      ]
    },
    {
      "cell_type": "code",
      "source": [
        "classifier.classify(gender_features('Trinity'))\n",
        "'female'"
      ],
      "metadata": {
        "colab": {
          "base_uri": "https://localhost:8080/",
          "height": 35
        },
        "id": "ioi-azaoxDB9",
        "outputId": "a0f49f80-e8f1-48ce-8373-d20a8a6063cb"
      },
      "execution_count": 9,
      "outputs": [
        {
          "output_type": "execute_result",
          "data": {
            "text/plain": [
              "'female'"
            ],
            "application/vnd.google.colaboratory.intrinsic+json": {
              "type": "string"
            }
          },
          "metadata": {},
          "execution_count": 9
        }
      ]
    },
    {
      "cell_type": "markdown",
      "source": [
        "We can systematically evaluate the classifier on a much larger quantity of unseen data:"
      ],
      "metadata": {
        "id": "4BU7CmQuxNVc"
      }
    },
    {
      "cell_type": "code",
      "source": [
        "print(nltk.classify.accuracy(classifier, test_set))"
      ],
      "metadata": {
        "colab": {
          "base_uri": "https://localhost:8080/"
        },
        "id": "wYIGA-FpxSxK",
        "outputId": "b891e75e-f8d3-4bdb-c64e-19eac4ce61f1"
      },
      "execution_count": 10,
      "outputs": [
        {
          "output_type": "stream",
          "name": "stdout",
          "text": [
            "0.748\n"
          ]
        }
      ]
    },
    {
      "cell_type": "markdown",
      "source": [
        " This result in an accuracy score of 74.8%. This indicates that your\n",
        " classifier correctly predicts the labels of 74.8% of the instances in\n",
        "the test set."
      ],
      "metadata": {
        "id": "zS_SXk2i2OiU"
      }
    },
    {
      "cell_type": "markdown",
      "source": [
        "We examine the classifier to determine which features it found most effective for distinguishing the names' genders:"
      ],
      "metadata": {
        "id": "eZ5P4YZDxXL6"
      }
    },
    {
      "cell_type": "code",
      "source": [
        "classifier.show_most_informative_features(10)"
      ],
      "metadata": {
        "colab": {
          "base_uri": "https://localhost:8080/"
        },
        "id": "zYVla4nGxcKz",
        "outputId": "f44ee825-e45e-4f91-baf9-315cf0901230"
      },
      "execution_count": 11,
      "outputs": [
        {
          "output_type": "stream",
          "name": "stdout",
          "text": [
            "Most Informative Features\n",
            "             last_letter = 'a'            female : male   =     35.8 : 1.0\n",
            "             last_letter = 'k'              male : female =     29.9 : 1.0\n",
            "             last_letter = 'f'              male : female =     16.7 : 1.0\n",
            "             last_letter = 'p'              male : female =     11.2 : 1.0\n",
            "             last_letter = 'v'              male : female =     11.2 : 1.0\n",
            "             last_letter = 'm'              male : female =     10.1 : 1.0\n",
            "             last_letter = 'd'              male : female =      9.8 : 1.0\n",
            "             last_letter = 'o'              male : female =      8.1 : 1.0\n",
            "             last_letter = 'r'              male : female =      7.2 : 1.0\n",
            "             last_letter = 'w'              male : female =      6.6 : 1.0\n"
          ]
        }
      ]
    },
    {
      "cell_type": "markdown",
      "source": [
        "The output from this classifier's highlights the significance of the last letter of names in predicting gender:\n",
        "\n",
        "last_letter = 'a' female : male = 35.8 : 1.0 tells us that names ending in the letter 'a' are 35.8 times more likely to be associated with females than males in your dataset. It suggests a strong trend or rule within the data that if a name ends in 'a', it's very likely to be a female name. This is a common pattern in many languages where names ending in 'a' are traditionally feminine.\n",
        "last_letter = 'k' male : female = 29.9 : 1.0\n",
        "\n",
        "Conversely, names ending in 'k' are 29.9 times more likely to be male. This could reflect cultural naming patterns or conventions where certain endings are predominantly used for males. The strong ratio here indicates that 'k' is a powerful predictor for male names in the dataset.\n",
        "last_letter = 'f' male : female = 16.7 : 1.0\n",
        "\n",
        "Names ending in 'f' are 16.7 times more likely to be male. Though less pronounced than 'a' for females or 'k' for males, this still represents a significant trend towards male names, suggesting that 'f' as a final letter is quite predictive of a name being male.\n",
        "last_letter = 'p' male : female = 11.2 : 1.0\n",
        "\n",
        "Similarly, names that end with the letter 'p' are 11.2 times more likely to be male. This is another example of how the model has learned from the training data that certain letters at the end of names are indicative of gender.\n",
        "last_letter = 'v' male : female = 11.2 : 1.0\n",
        "\n",
        "The ratio for names ending in 'v' being male is the same as for 'p', indicating a strong male association. It's interesting to see different letters having similar strengths of association with a gender, reflecting the diversity of naming patterns.\n",
        "last_letter = 'm' male : female = 10.1 : 1.0\n",
        "\n",
        "Names ending in 'm' are 10.1 times more likely to be male, suggesting another strong but slightly less pronounced indicator of male names compared to some other letters.\n",
        "last_letter = 'd' male : female = 9.8 : 1.0\n",
        "\n",
        "This shows a notable tendency for names ending in 'd' to be male, again highlighting how certain character endings can signal gender in names.\n",
        "last_letter = 'o' male : female = 8.1 : 1.0\n",
        "\n",
        "Names ending in 'o' are 8.1 times more likely to be male, providing insight into another letter commonly found at the end of male names.\n",
        "last_letter = 'r' male : female = 7.2 : 1.0\n",
        "\n",
        "The presence of 'r' at the end of a name being a strong indicator of it being a male name, though with a slightly lower ratio compared to other letters discussed.\n",
        "last_letter = 'w' male : female = 6.6 : 1.0\n",
        "\n",
        "Finally, names ending in 'w' being more likely to be male names, though with the lowest ratio among the examples provided, still indicates a gender trend.\n",
        "\n",
        "Each of these informative features highlights how the Naive Bayes classifier uses the patterns found in the data to make predictions. The ratios provide a quantitative measure of how much more likely a name is to belong to one gender based on the ending letter, which is a straightforward yet powerful feature for gender classification."
      ],
      "metadata": {
        "id": "vLqfdjzI4I0D"
      }
    },
    {
      "cell_type": "markdown",
      "source": [
        "## Split Corpus into Three Subsets"
      ],
      "metadata": {
        "id": "KOdtGBUpa1IQ"
      }
    },
    {
      "cell_type": "markdown",
      "source": [
        "We split the Names Corpus into three subsets: 500 words for the test set, 500 words for the devtest set, and the remaining 6900 words for the training set."
      ],
      "metadata": {
        "id": "-CZgVbAKzHqk"
      }
    },
    {
      "cell_type": "code",
      "source": [
        "test_names = labeled_names[:500]\n",
        "devtest_names = labeled_names[501:1001]\n",
        "train_names = labeled_names[1002:]"
      ],
      "metadata": {
        "id": "FgEZeCdxbBbT"
      },
      "execution_count": 12,
      "outputs": []
    },
    {
      "cell_type": "code",
      "source": [
        "print(f'The Names Corpus has: {len(labeled_names)} names')\n",
        "print(f'The test_names partition has: {len(test_names)} names')\n",
        "print(f'The devtest_names partition has: {len(devtest_names)} names')\n",
        "print(f'The train_names partition has: {len(train_names)} names')"
      ],
      "metadata": {
        "colab": {
          "base_uri": "https://localhost:8080/"
        },
        "id": "hLUcjCm4sLAt",
        "outputId": "9f478c93-1da5-4447-d142-0c1d8164af42"
      },
      "execution_count": 13,
      "outputs": [
        {
          "output_type": "stream",
          "name": "stdout",
          "text": [
            "The Names Corpus has: 7944 names\n",
            "The test_names partition has: 500 names\n",
            "The devtest_names partition has: 500 names\n",
            "The train_names partition has: 6942 names\n"
          ]
        }
      ]
    },
    {
      "cell_type": "code",
      "source": [],
      "metadata": {
        "id": "6xQCu6f5Fy1V"
      },
      "execution_count": null,
      "outputs": []
    },
    {
      "cell_type": "markdown",
      "source": [
        "## Training Classifier\n",
        "Potential classifiers include: Decision Trees, Naive Bayes, Maximum Entropy Classifiers"
      ],
      "metadata": {
        "id": "vnIkOor0a1Ky"
      }
    },
    {
      "cell_type": "markdown",
      "source": [
        "After dividing the corpus into appropriate datasets, we train a model using the training set, and then run it on the dev-test set."
      ],
      "metadata": {
        "id": "MAFFzwYUzgjH"
      }
    },
    {
      "cell_type": "code",
      "source": [
        "train_set = [(gender_features(n), gender) for (n, gender) in train_names]\n",
        "devtest_set = [(gender_features(n), gender) for (n, gender) in devtest_names]\n",
        "test_set = [(gender_features(n), gender) for (n, gender) in test_names]\n",
        "classifier = nltk.NaiveBayesClassifier.train(train_set)\n",
        "print(nltk.classify.accuracy(classifier, devtest_set))"
      ],
      "metadata": {
        "id": "qOvMV39gbtIF",
        "colab": {
          "base_uri": "https://localhost:8080/"
        },
        "outputId": "6f072ee4-4390-4c1b-d433-3718f99e60e8"
      },
      "execution_count": 14,
      "outputs": [
        {
          "output_type": "stream",
          "name": "stdout",
          "text": [
            "0.746\n"
          ]
        }
      ]
    },
    {
      "cell_type": "markdown",
      "source": [
        "The accuracy is approximately 74.6%."
      ],
      "metadata": {
        "id": "R_kvGqmNB_dt"
      }
    },
    {
      "cell_type": "markdown",
      "source": [
        "### Incremental Feature 1\n",
        "Using the first letter of a name shows an accuracy increase of 0.08% from the base model."
      ],
      "metadata": {
        "id": "UIgktSBb1kNt"
      }
    },
    {
      "cell_type": "code",
      "source": [
        "def gender_features2(name):\n",
        "    features = {}\n",
        "    features[\"last_letter\"] = name[-1].lower()\n",
        "    features[\"first_letter\"] = name[0].lower()\n",
        "    return features\n",
        "\n",
        "train_set = [(gender_features2(n), gender) for (n, gender) in train_names]\n",
        "devtest_set = [(gender_features2(n), gender) for (n, gender) in devtest_names]\n",
        "test_set = [(gender_features2(n), gender) for (n, gender) in test_names]\n",
        "classifier = nltk.NaiveBayesClassifier.train(train_set)\n",
        "print(f'The \\'devtest_set\\' accuracy score is: {nltk.classify.accuracy(classifier, devtest_set)}')"
      ],
      "metadata": {
        "id": "ZhEbyuuk1pIF",
        "colab": {
          "base_uri": "https://localhost:8080/"
        },
        "outputId": "7f2eaa9b-794d-495d-d67c-4d200d1dcd67"
      },
      "execution_count": 15,
      "outputs": [
        {
          "output_type": "stream",
          "name": "stdout",
          "text": [
            "The 'devtest_set' accuracy score is: 0.744\n"
          ]
        }
      ]
    },
    {
      "cell_type": "code",
      "source": [
        "print(f'The \\'test_set\\' accuracy score is: {nltk.classify.accuracy(classifier, test_set)}')"
      ],
      "metadata": {
        "colab": {
          "base_uri": "https://localhost:8080/"
        },
        "id": "f-Lq3fWu5SEv",
        "outputId": "54c7b4ef-8932-441a-c0fd-de8a511d7ea1"
      },
      "execution_count": 16,
      "outputs": [
        {
          "output_type": "stream",
          "name": "stdout",
          "text": [
            "The 'test_set' accuracy score is: 0.754\n"
          ]
        }
      ]
    },
    {
      "cell_type": "markdown",
      "source": [
        "### Incremental Feature 2\n",
        "Using the first letter and and last two letters increases the accuracy by 2% from the base model."
      ],
      "metadata": {
        "id": "scNpI4I71ltX"
      }
    },
    {
      "cell_type": "code",
      "source": [
        "def gender_features3(name):\n",
        "    features = {}\n",
        "    features[\"last_letter\"] = name[-1].lower()\n",
        "    features[\"first_letter\"] = name[0].lower()\n",
        "    features['last_two_letters'] = name[-2:].lower()\n",
        "    return features\n",
        "\n",
        "train_set = [(gender_features3(n), gender) for (n, gender) in train_names]\n",
        "devtest_set = [(gender_features3(n), gender) for (n, gender) in devtest_names]\n",
        "test_set = [(gender_features3(n), gender) for (n, gender) in test_names]\n",
        "classifier = nltk.NaiveBayesClassifier.train(train_set)\n",
        "print(f'The \\'devtest_set\\' accuracy score is: {nltk.classify.accuracy(classifier, devtest_set)}')"
      ],
      "metadata": {
        "id": "QKcX6Dbn1uSd",
        "colab": {
          "base_uri": "https://localhost:8080/"
        },
        "outputId": "0136f44a-abdb-4df5-e21d-c07e4f4395d1"
      },
      "execution_count": 17,
      "outputs": [
        {
          "output_type": "stream",
          "name": "stdout",
          "text": [
            "The 'devtest_set' accuracy score is: 0.772\n"
          ]
        }
      ]
    },
    {
      "cell_type": "code",
      "source": [
        "print(f'The \\'test_set\\' accuracy score is: {nltk.classify.accuracy(classifier, test_set)}')"
      ],
      "metadata": {
        "colab": {
          "base_uri": "https://localhost:8080/"
        },
        "id": "YN9uDSM953Zt",
        "outputId": "1cf9e1ad-d401-4a4f-aec1-9bc647740653"
      },
      "execution_count": 18,
      "outputs": [
        {
          "output_type": "stream",
          "name": "stdout",
          "text": [
            "The 'test_set' accuracy score is: 0.778\n"
          ]
        }
      ]
    },
    {
      "cell_type": "markdown",
      "source": [
        "### Incremental Feature 3\n",
        "Including the last two letters of a name instead of only one increases the accuracy by 4.8%. Although less features are included, this could be due to the removal of the feature ('last_letter') that shares variance with ('last_two_letters'). Naive bayes classifiers are known not to handle multicollinearity well."
      ],
      "metadata": {
        "id": "AAVHb8DmyXd9"
      }
    },
    {
      "cell_type": "code",
      "source": [
        "def gender_features4(name):\n",
        "    features = {}\n",
        "    features[\"first_letter\"] = name[0].lower()\n",
        "    features['last_two_letters'] = name[-2:].lower()\n",
        "    return features\n",
        "\n",
        "train_set = [(gender_features4(n), gender) for (n, gender) in train_names]\n",
        "devtest_set = [(gender_features4(n), gender) for (n, gender) in devtest_names]\n",
        "test_set = [(gender_features4(n), gender) for (n, gender) in test_names]\n",
        "classifier = nltk.NaiveBayesClassifier.train(train_set)\n",
        "print(f'The \\'devtest_set\\' accuracy score is: {nltk.classify.accuracy(classifier, devtest_set)}')"
      ],
      "metadata": {
        "colab": {
          "base_uri": "https://localhost:8080/"
        },
        "id": "3IHhi8ALyRvl",
        "outputId": "bfafe516-4ca8-4e1b-da3c-7a3694fff0c6"
      },
      "execution_count": 19,
      "outputs": [
        {
          "output_type": "stream",
          "name": "stdout",
          "text": [
            "The 'devtest_set' accuracy score is: 0.774\n"
          ]
        }
      ]
    },
    {
      "cell_type": "code",
      "source": [
        "print(f'The \\'test_set\\' accuracy score is: {nltk.classify.accuracy(classifier, test_set)}')"
      ],
      "metadata": {
        "colab": {
          "base_uri": "https://localhost:8080/"
        },
        "id": "irELzOU-25ha",
        "outputId": "393e4ec8-16e5-41be-c231-a025bb833f59"
      },
      "execution_count": 20,
      "outputs": [
        {
          "output_type": "stream",
          "name": "stdout",
          "text": [
            "The 'test_set' accuracy score is: 0.81\n"
          ]
        }
      ]
    },
    {
      "cell_type": "code",
      "source": [],
      "metadata": {
        "id": "s94ADwOyDFYy"
      },
      "execution_count": 20,
      "outputs": []
    },
    {
      "cell_type": "markdown",
      "source": [
        "# Checking Class balance, Precision, Recall, and F1-Score\n",
        "\n",
        "After inspecting the confusion matrix, it was found that the original dataset has a severe class imbalance. There are 2556 male names, while there are 4386 female names. This class imbalance also reflected to devtest_set as well as the test_set. Calibrating the training set classes should help improve the Naive Bayes classifier. As depicted by the confusion matrix below, the male minority class is misclassified approximately 33%. In contrast, female name misclassifications are misclassified by 11%."
      ],
      "metadata": {
        "id": "_2M7Xl6V9pFf"
      }
    },
    {
      "cell_type": "code",
      "source": [
        "#check balance\n",
        "male_count = sum(1 for _, gender in train_names if gender == 'male')\n",
        "female_count = sum(1 for _, gender in train_names if gender == 'female')\n",
        "\n",
        "male_count, female_count"
      ],
      "metadata": {
        "colab": {
          "base_uri": "https://localhost:8080/"
        },
        "id": "B6PGhTCHGDfW",
        "outputId": "584ebcd6-f02b-4e7b-da49-279cf30f8d07"
      },
      "execution_count": 23,
      "outputs": [
        {
          "output_type": "execute_result",
          "data": {
            "text/plain": [
              "(2556, 4386)"
            ]
          },
          "metadata": {},
          "execution_count": 23
        }
      ]
    },
    {
      "cell_type": "code",
      "source": [
        "errors = []\n",
        "for (name, tag) in devtest_names:\n",
        "    guess = classifier.classify(gender_features4(name))\n",
        "    if guess != tag:\n",
        "        errors.append( (tag, guess, name) )\n",
        "\n",
        "# Count occurrences of each (tag, guess) combination\n",
        "tag_guess_counts = Counter((tag, guess) for tag, guess, name in errors)\n",
        "\n",
        "for (tag, guess), count in tag_guess_counts.items():\n",
        "    print(f'({tag}, {guess}): {count}')"
      ],
      "metadata": {
        "colab": {
          "base_uri": "https://localhost:8080/"
        },
        "id": "xY6rjgdh9xAa",
        "outputId": "eec411a8-0949-4bb5-c85e-da738aa2bfdb"
      },
      "execution_count": 21,
      "outputs": [
        {
          "output_type": "stream",
          "name": "stdout",
          "text": [
            "(female, male): 38\n",
            "(male, female): 75\n"
          ]
        }
      ]
    },
    {
      "cell_type": "code",
      "source": [
        "## Compute the Confusion Matrix\n",
        "t_f = [feature for (feature, label) in test_set]  # features of test set\n",
        "t_l = [label for (feature, label) in test_set]  # labels of test set\n",
        "t_l_pr = [classifier.classify(f) for f in t_f]  # predicted labels of test set\n",
        "cm = nltk.ConfusionMatrix(t_l, t_l_pr)\n",
        "\n",
        "## label names\n",
        "target_names = ['female', 'male']\n",
        "\n",
        "## confusion matrix\n",
        "cm = confusion_matrix(y_true = t_l, y_pred = t_l_pr, labels = target_names)\n",
        "print(cm)\n",
        "\n",
        "## plotting\n",
        "disp = ConfusionMatrixDisplay(confusion_matrix= cm,\n",
        "                              display_labels= target_names)\n",
        "\n",
        "disp.plot()\n",
        "plt.show()"
      ],
      "metadata": {
        "colab": {
          "base_uri": "https://localhost:8080/",
          "height": 484
        },
        "id": "-PWvrn6q__q_",
        "outputId": "e14a576e-bb8c-4680-e0bc-014f3f7742fc"
      },
      "execution_count": 22,
      "outputs": [
        {
          "output_type": "stream",
          "name": "stdout",
          "text": [
            "[[275  33]\n",
            " [ 62 130]]\n"
          ]
        },
        {
          "output_type": "display_data",
          "data": {
            "text/plain": [
              "<Figure size 640x480 with 2 Axes>"
            ],
            "image/png": "[encoded data removed]"
          },
          "metadata": {}
        }
      ]
    },
    {
      "cell_type": "markdown",
      "source": [
        "## Using Dev-Test Set to Check Progress"
      ],
      "metadata": {
        "id": "2RJOh-IGcX1C"
      }
    },
    {
      "cell_type": "markdown",
      "source": [
        "Using the dev-test set, we can generate a list of the errors that the classifier makes when predicting name genders:"
      ],
      "metadata": {
        "id": "9KgjKnd1zvLJ"
      }
    },
    {
      "cell_type": "code",
      "source": [
        "errors = []\n",
        "for (name, tag) in devtest_names:\n",
        "    guess = classifier.classify(gender_features(name))\n",
        "    if guess != tag:\n",
        "        errors.append( (tag, guess, name) )"
      ],
      "metadata": {
        "id": "qUPN2su7ccBM"
      },
      "execution_count": null,
      "outputs": []
    },
    {
      "cell_type": "markdown",
      "source": [
        "## Evaluating Classifier"
      ],
      "metadata": {
        "id": "e-FJeN9Ya1Mx"
      }
    },
    {
      "cell_type": "markdown",
      "source": [
        "We can then examine individual error cases where the model predicted the wrong label, and try to determine what additional pieces of information would allow it to make the right decision (or which existing pieces of information are tricking it into making the wrong decision). The feature set can then be adjusted accordingly. The names classifier that we have built generates about 100 errors on the dev-test corpus:"
      ],
      "metadata": {
        "id": "y-cUR4FYz5De"
      }
    },
    {
      "cell_type": "code",
      "execution_count": null,
      "metadata": {
        "id": "AGChC1ygaM9P",
        "colab": {
          "base_uri": "https://localhost:8080/"
        },
        "outputId": "e02ebb51-30e5-48a3-eb1f-2598d8e1bd3d"
      },
      "outputs": [
        {
          "output_type": "stream",
          "name": "stdout",
          "text": [
            "correct=female   guess=male     name=Allsun                        \n",
            "correct=female   guess=male     name=Alyson                        \n",
            "correct=female   guess=male     name=Ariel                         \n",
            "correct=female   guess=male     name=Aurel                         \n",
            "correct=female   guess=male     name=Avis                          \n",
            "correct=female   guess=male     name=Barb                          \n",
            "correct=female   guess=male     name=Beau                          \n",
            "correct=female   guess=male     name=Berget                        \n",
            "correct=female   guess=male     name=Bette-Ann                     \n",
            "correct=female   guess=male     name=Brenn                         \n",
            "correct=female   guess=male     name=Calypso                       \n",
            "correct=female   guess=male     name=Candis                        \n",
            "correct=female   guess=male     name=Cathyleen                     \n",
            "correct=female   guess=male     name=Charmain                      \n",
            "correct=female   guess=male     name=Charmion                      \n",
            "correct=female   guess=male     name=Cher                          \n",
            "correct=female   guess=male     name=Cherin                        \n",
            "correct=female   guess=male     name=Chrystal                      \n",
            "correct=female   guess=male     name=Chrystel                      \n",
            "correct=female   guess=male     name=Darryl                        \n",
            "correct=female   guess=male     name=Donnajean                     \n",
            "correct=female   guess=male     name=Dot                           \n",
            "correct=female   guess=male     name=Em                            \n",
            "correct=female   guess=male     name=Eran                          \n",
            "correct=female   guess=male     name=Erinn                         \n",
            "correct=female   guess=male     name=Fallon                        \n",
            "correct=female   guess=male     name=Felicdad                      \n",
            "correct=female   guess=male     name=Gunvor                        \n",
            "correct=female   guess=male     name=Gwendolyn                     \n",
            "correct=female   guess=male     name=Helen                         \n",
            "correct=female   guess=male     name=Idell                         \n",
            "correct=female   guess=male     name=Inger                         \n",
            "correct=female   guess=male     name=Jaclyn                        \n",
            "correct=female   guess=male     name=Jacquelynn                    \n",
            "correct=female   guess=male     name=Jaynell                       \n",
            "correct=female   guess=male     name=Kathleen                      \n",
            "correct=female   guess=male     name=Kerrill                       \n",
            "correct=female   guess=male     name=Leann                         \n",
            "correct=female   guess=male     name=Leanor                        \n",
            "correct=female   guess=male     name=Lil                           \n",
            "correct=female   guess=male     name=Lilian                        \n",
            "correct=female   guess=male     name=Maegan                        \n",
            "correct=female   guess=male     name=Margalo                       \n",
            "correct=female   guess=male     name=Margo                         \n",
            "correct=female   guess=male     name=Marijo                        \n",
            "correct=female   guess=male     name=Marit                         \n",
            "correct=female   guess=male     name=Mavis                         \n",
            "correct=female   guess=male     name=Mead                          \n",
            "correct=female   guess=male     name=Michal                        \n",
            "correct=female   guess=male     name=Muffin                        \n",
            "correct=female   guess=male     name=Pet                           \n",
            "correct=female   guess=male     name=Rayshell                      \n",
            "correct=female   guess=male     name=Rhianon                       \n",
            "correct=female   guess=male     name=Robbyn                        \n",
            "correct=female   guess=male     name=Rosabel                       \n",
            "correct=female   guess=male     name=Shamit                        \n",
            "correct=female   guess=male     name=Shannen                       \n",
            "correct=female   guess=male     name=Sib                           \n",
            "correct=female   guess=male     name=Sybil                         \n",
            "correct=female   guess=male     name=Umeko                         \n",
            "correct=female   guess=male     name=Velvet                        \n",
            "correct=female   guess=male     name=Wren                          \n",
            "correct=male     guess=female   name=Abbey                         \n",
            "correct=male     guess=female   name=Adolphe                       \n",
            "correct=male     guess=female   name=Alix                          \n",
            "correct=male     guess=female   name=Antoine                       \n",
            "correct=male     guess=female   name=Benji                         \n",
            "correct=male     guess=female   name=Bentley                       \n",
            "correct=male     guess=female   name=Berke                         \n",
            "correct=male     guess=female   name=Bjorne                        \n",
            "correct=male     guess=female   name=Blare                         \n",
            "correct=male     guess=female   name=Blayne                        \n",
            "correct=male     guess=female   name=Brandy                        \n",
            "correct=male     guess=female   name=Brodie                        \n",
            "correct=male     guess=female   name=Chancey                       \n",
            "correct=male     guess=female   name=Charlie                       \n",
            "correct=male     guess=female   name=Claude                        \n",
            "correct=male     guess=female   name=Cyrille                       \n",
            "correct=male     guess=female   name=Dani                          \n",
            "correct=male     guess=female   name=Deane                         \n",
            "correct=male     guess=female   name=Dominique                     \n",
            "correct=male     guess=female   name=Donny                         \n",
            "correct=male     guess=female   name=Eddie                         \n",
            "correct=male     guess=female   name=Ezra                          \n",
            "correct=male     guess=female   name=Frederich                     \n",
            "correct=male     guess=female   name=Granville                     \n",
            "correct=male     guess=female   name=Guthry                        \n",
            "correct=male     guess=female   name=Hale                          \n",
            "correct=male     guess=female   name=Henrique                      \n",
            "correct=male     guess=female   name=Herculie                      \n",
            "correct=male     guess=female   name=Humphrey                      \n",
            "correct=male     guess=female   name=Hurley                        \n",
            "correct=male     guess=female   name=Ignace                        \n",
            "correct=male     guess=female   name=Ike                           \n",
            "correct=male     guess=female   name=Isa                           \n",
            "correct=male     guess=female   name=Jose                          \n",
            "correct=male     guess=female   name=Kingsly                       \n",
            "correct=male     guess=female   name=Lance                         \n",
            "correct=male     guess=female   name=Laurence                      \n",
            "correct=male     guess=female   name=Leigh                         \n",
            "correct=male     guess=female   name=Lennie                        \n",
            "correct=male     guess=female   name=Lesley                        \n",
            "correct=male     guess=female   name=Mace                          \n",
            "correct=male     guess=female   name=Manish                        \n",
            "correct=male     guess=female   name=Meade                         \n",
            "correct=male     guess=female   name=Mickey                        \n",
            "correct=male     guess=female   name=Mikey                         \n",
            "correct=male     guess=female   name=Montague                      \n",
            "correct=male     guess=female   name=Mordecai                      \n",
            "correct=male     guess=female   name=Morley                        \n",
            "correct=male     guess=female   name=Neddie                        \n",
            "correct=male     guess=female   name=Nickey                        \n",
            "correct=male     guess=female   name=Quincey                       \n",
            "correct=male     guess=female   name=Randi                         \n",
            "correct=male     guess=female   name=Reilly                        \n",
            "correct=male     guess=female   name=Richy                         \n",
            "correct=male     guess=female   name=Roarke                        \n",
            "correct=male     guess=female   name=Rodolphe                      \n",
            "correct=male     guess=female   name=Smith                         \n",
            "correct=male     guess=female   name=Spense                        \n",
            "correct=male     guess=female   name=Temple                        \n",
            "correct=male     guess=female   name=Tobie                         \n",
            "correct=male     guess=female   name=Tre                           \n",
            "correct=male     guess=female   name=Waite                         \n",
            "correct=male     guess=female   name=Welsh                         \n",
            "correct=male     guess=female   name=Weslie                        \n",
            "correct=male     guess=female   name=Westbrooke                    \n"
          ]
        }
      ],
      "source": [
        "for (tag, guess, name) in sorted(errors):\n",
        "       print('correct={:<8} guess={:<8s} name={:<30}'.format(tag, guess, name))"
      ]
    },
    {
      "cell_type": "markdown",
      "source": [
        "This kind of error analysis is crucial in machine learning and natural language processing projects to understand the limitations of a model and to find ways to improve its accuracy. The names listed here seem to challenge the model's classification capabilities, possibly due to their unisex nature, less common usage, or cultural variations in naming conventions that the model has not adequately learned to handle."
      ],
      "metadata": {
        "id": "gV7fhAL19B8u"
      }
    },
    {
      "cell_type": "markdown",
      "source": [
        "### Count Occurrences of Each Combination of tag and guess"
      ],
      "metadata": {
        "id": "ooVEr0vQM1_w"
      }
    },
    {
      "cell_type": "code",
      "source": [
        "# Count occurrences of each (tag, guess) combination\n",
        "tag_guess_counts = Counter((tag, guess) for tag, guess, name in errors)\n",
        "\n",
        "for (tag, guess), count in tag_guess_counts.items():\n",
        "    print(f'({tag}, {guess}): {count}')"
      ],
      "metadata": {
        "colab": {
          "base_uri": "https://localhost:8080/"
        },
        "id": "2greeZu7KAar",
        "outputId": "a183daa8-b3f8-4f2d-d884-3bc83ccea23b"
      },
      "execution_count": null,
      "outputs": [
        {
          "output_type": "stream",
          "name": "stdout",
          "text": [
            "(female, male): 62\n",
            "(male, female): 65\n"
          ]
        }
      ]
    },
    {
      "cell_type": "markdown",
      "source": [
        "This approach gives you a quick summary of the occurrences of each unique element or combination of elements in your errors list."
      ],
      "metadata": {
        "id": "27OBcEzCNQlO"
      }
    },
    {
      "cell_type": "markdown",
      "source": [
        "### Compute the Confusion Matrix"
      ],
      "metadata": {
        "id": "iEMz3IIeXmhK"
      }
    },
    {
      "cell_type": "markdown",
      "source": [
        "After we train the model, we need to evaluate its performance on the testing dataset.\n",
        "\n",
        "Model evaluation usually involves comparing the predictions provided by the model with the correct answers/labels.\n",
        "\n",
        "The evaluation results are often summarized in a confusion matrix.\n",
        "\n"
      ],
      "metadata": {
        "id": "2gK58hopVvk3"
      }
    },
    {
      "cell_type": "code",
      "source": [
        "## Compute the Confusion Matrix\n",
        "t_f = [feature for (feature, label) in test_set]  # features of test set\n",
        "t_l = [label for (feature, label) in test_set]  # labels of test set\n",
        "t_l_pr = [classifier.classify(f) for f in t_f]  # predicted labels of test set\n",
        "cm = nltk.ConfusionMatrix(t_l, t_l_pr)"
      ],
      "metadata": {
        "id": "CqzoY2bqVTrH"
      },
      "execution_count": null,
      "outputs": []
    },
    {
      "cell_type": "code",
      "source": [
        "## label names\n",
        "target_names = ['female', 'male']\n",
        "\n",
        "## confusion matrix\n",
        "cm = confusion_matrix(y_true = t_l, y_pred = t_l_pr, labels = target_names)\n",
        "print(cm)\n",
        "\n",
        "## plotting\n",
        "disp = ConfusionMatrixDisplay(confusion_matrix= cm,\n",
        "                              display_labels= target_names)\n",
        "\n",
        "disp.plot()\n",
        "plt.show()"
      ],
      "metadata": {
        "colab": {
          "base_uri": "https://localhost:8080/",
          "height": 493
        },
        "id": "ezAYqhWxS6Vu",
        "outputId": "abc547f0-c651-49a9-ca05-ed0d43233930"
      },
      "execution_count": null,
      "outputs": [
        {
          "output_type": "stream",
          "name": "stdout",
          "text": [
            "[[246  62]\n",
            " [ 64 128]]\n"
          ]
        },
        {
          "output_type": "display_data",
          "data": {
            "text/plain": [
              "<Figure size 640x480 with 2 Axes>"
            ],
            "image/png": "[encoded data removed]"
          },
          "metadata": {}
        }
      ]
    },
    {
      "cell_type": "markdown",
      "source": [
        "Top-left (246): True Negatives (TN) - The number of negative instances correctly classified as negative.\n",
        "\n",
        "Top-right (62): False Positives (FP) - The number of negative instances incorrectly classified as positive.\n",
        "\n",
        "Bottom-left (64): False Negatives (FN) - The number of positive instances incorrectly classified as negative.\n",
        "\n",
        "Bottom-right (128): True Positives (TP) - The number of positive instances correctly classified as positive.\n",
        "\n",
        "The model has a relatively balanced performance on both classes, but it tends to make more errors in false negatives than false positives. This could indicate that the model is more conservative in predicting the positive class."
      ],
      "metadata": {
        "id": "wnkyIAVcWKCn"
      }
    },
    {
      "cell_type": "markdown",
      "source": [
        "### Confusion Matrix Report"
      ],
      "metadata": {
        "id": "Ds2jEArpXul_"
      }
    },
    {
      "cell_type": "code",
      "source": [
        "## confusion matrix report\n",
        "print(classification_report(y_true = t_l, y_pred = t_l_pr, target_names= ['female','male']))"
      ],
      "metadata": {
        "colab": {
          "base_uri": "https://localhost:8080/"
        },
        "id": "8PzkKcneXJZF",
        "outputId": "719a339f-202a-4b14-830c-be71d2addf62"
      },
      "execution_count": null,
      "outputs": [
        {
          "output_type": "stream",
          "name": "stdout",
          "text": [
            "              precision    recall  f1-score   support\n",
            "\n",
            "      female       0.79      0.80      0.80       308\n",
            "        male       0.67      0.67      0.67       192\n",
            "\n",
            "    accuracy                           0.75       500\n",
            "   macro avg       0.73      0.73      0.73       500\n",
            "weighted avg       0.75      0.75      0.75       500\n",
            "\n"
          ]
        }
      ]
    },
    {
      "cell_type": "markdown",
      "source": [
        "The model performs better on identifying females than males, with higher precision, recall, and F1-scores for the female class.\n",
        "The overall accuracy of 75% indicates a reasonable performance, but there's room for improvement, especially in improving the recall for the male class to reduce the number of false negatives.\n",
        "The macro average suggests the model has fair performance across classes, but the weighted average points to better performance on the more prevalent class (female) in your dataset."
      ],
      "metadata": {
        "id": "KK0QLX-LY7n5"
      }
    },
    {
      "cell_type": "markdown",
      "source": [
        "The calculations for accuracy, macro F1 measure, and weighted F1 measure provide a concise summary of your model's performance across different metrics."
      ],
      "metadata": {
        "id": "1BsiXvI7Y7hP"
      }
    },
    {
      "cell_type": "code",
      "source": [
        "## Accuracy\n",
        "print((272+124)/500)\n",
        "\n",
        "## macro F measures\n",
        "print((0.84 + 0.70)/2)\n",
        "\n",
        "## weighted F measures\n",
        "print(0.84*(315/(315+185)) + 0.70 * (185/(315+185)))"
      ],
      "metadata": {
        "colab": {
          "base_uri": "https://localhost:8080/"
        },
        "id": "RUk_GbUpXZT2",
        "outputId": "340be56e-6293-4d4d-d9bf-fbef12e67d75"
      },
      "execution_count": null,
      "outputs": [
        {
          "output_type": "stream",
          "name": "stdout",
          "text": [
            "0.792\n",
            "0.77\n",
            "0.7882\n"
          ]
        }
      ]
    },
    {
      "cell_type": "markdown",
      "source": [
        "The accuracy means that 79.2% of the time, your model correctly predicts the gender based on the given features.\n",
        "\n",
        "The macro F1 measure indicates an average F1 score across the classes of 0.77, suggesting a balanced performance of precision and recall across different classes, albeit without considering class imbalance.\n",
        "\n",
        "The weighted F1 score of approximately 0.7882, closely aligning with the accuracy calculation. It reflects the model's performance across the classes, weighted by their representation in the dataset.\n",
        "\n",
        "\n",
        "These metrics collectively offer a nuanced view of your model's performance. Accuracy alone might suggest a fairly high level of predictive ability, but the F1 measures, especially the macro F1, hint at differences in performance across classes. The weighted F1 score helps reconcile these by factoring in class imbalances, showing a performance metric that closely mirrors the overall accuracy but provides deeper insight into class-specific performance."
      ],
      "metadata": {
        "id": "S-OBG0siZaIY"
      }
    },
    {
      "cell_type": "markdown",
      "source": [
        "Modify the gender_features() function to provide the classifier with features encoding the length of the name, its first letter, and any other features that seem like they might be informative. Retrain the classifier with these new features, and test its accuracy."
      ],
      "metadata": {
        "id": "0ggRQf2d-nIc"
      }
    },
    {
      "cell_type": "code",
      "source": [
        "def gender_features(word):\n",
        "    return {'last_letter'  : word[-1],\n",
        "            'length'       : len(word),\n",
        "            'first_letter' : word[0],\n",
        "            'last_2letters': word[-2:]}\n",
        "\n",
        "train_set = [(gender_features(n), gender) for (n, gender) in train_names]\n",
        "devtest_set = [(gender_features(n), gender) for (n, gender) in devtest_names]\n",
        "test_set = [(gender_features(n), gender) for (n, gender) in test_names]\n",
        "classifier = nltk.NaiveBayesClassifier.train(train_set)\n",
        "print(nltk.classify.accuracy(classifier, devtest_set))"
      ],
      "metadata": {
        "colab": {
          "base_uri": "https://localhost:8080/"
        },
        "id": "neMqmrg5ANm4",
        "outputId": "9516ba44-6d38-4d0f-8322-043269f6dd2d"
      },
      "execution_count": null,
      "outputs": [
        {
          "output_type": "stream",
          "name": "stdout",
          "text": [
            "0.776\n"
          ]
        }
      ]
    },
    {
      "cell_type": "code",
      "source": [
        "def gender_features(word):\n",
        "    return {'last_letter'  : word[-1],\n",
        "            'length'       : len(word),\n",
        "            'first_letter' : word[0],\n",
        "            'last_2letters': word[-2:],\n",
        "            'first_2letters': word[:2]}\n",
        "\n",
        "\n",
        "train_set = [(gender_features(n), gender) for (n, gender) in train_names]\n",
        "devtest_set = [(gender_features(n), gender) for (n, gender) in devtest_names]\n",
        "test_set = [(gender_features(n), gender) for (n, gender) in test_names]\n",
        "classifier = nltk.NaiveBayesClassifier.train(train_set)\n",
        "print(nltk.classify.accuracy(classifier, devtest_set))"
      ],
      "metadata": {
        "colab": {
          "base_uri": "https://localhost:8080/"
        },
        "id": "IRGWwnR6FSpx",
        "outputId": "3251b920-97a8-4940-d421-b7fce2c23b32"
      },
      "execution_count": null,
      "outputs": [
        {
          "output_type": "stream",
          "name": "stdout",
          "text": [
            "0.794\n"
          ]
        }
      ]
    },
    {
      "cell_type": "code",
      "source": [
        "def gender_features(word):\n",
        "    return {'last_letter'  : word[-1],\n",
        "            'length'       : len(word),\n",
        "            'first_letter' : word[0],\n",
        "            'last_2letters': word[-2:],\n",
        "            'first_2letters': word[:2],\n",
        "            'first_vowel'  : [i for i in range(len(word))\n",
        "                              if word[i] in 'AEIOUaeiouy'][0]}\n",
        "\n",
        "\n",
        "train_set = [(gender_features(n), gender) for (n, gender) in train_names]\n",
        "devtest_set = [(gender_features(n), gender) for (n, gender) in devtest_names]\n",
        "test_set = [(gender_features(n), gender) for (n, gender) in test_names]\n",
        "classifier = nltk.NaiveBayesClassifier.train(train_set)\n",
        "print(nltk.classify.accuracy(classifier, devtest_set))"
      ],
      "metadata": {
        "colab": {
          "base_uri": "https://localhost:8080/"
        },
        "id": "qToSXyXQFc7B",
        "outputId": "b547a4fd-6876-490e-9744-5bc3fcaab5e5"
      },
      "execution_count": null,
      "outputs": [
        {
          "output_type": "stream",
          "name": "stdout",
          "text": [
            "0.792\n"
          ]
        }
      ]
    },
    {
      "cell_type": "code",
      "source": [
        "train_set = [(gender_features(n), gender) for (n, gender) in train_names]\n",
        "devtest_set = [(gender_features(n), gender) for (n, gender) in devtest_names]\n",
        "test_set = [(gender_features(n), gender) for (n, gender) in test_names]\n",
        "classifier = nltk.NaiveBayesClassifier.train(train_set)\n",
        "print(nltk.classify.accuracy(classifier, devtest_set))"
      ],
      "metadata": {
        "colab": {
          "base_uri": "https://localhost:8080/"
        },
        "id": "-W2hEx42AU4W",
        "outputId": "fda684f0-39c1-45f0-ed68-174866533438"
      },
      "execution_count": null,
      "outputs": [
        {
          "output_type": "stream",
          "name": "stdout",
          "text": [
            "0.792\n"
          ]
        }
      ]
    },
    {
      "cell_type": "markdown",
      "source": [
        "## Cross Validation"
      ],
      "metadata": {
        "id": "4yB_g9C4fra6"
      }
    },
    {
      "cell_type": "markdown",
      "source": [
        "We check our average model performance using the cross-validation method on the training dataset before the real testing of the model.\n",
        "\n",
        "This method is often useful if you need to fine-tune the hyperparameters during the model training stage."
      ],
      "metadata": {
        "id": "4gmx6U4AgAgQ"
      }
    },
    {
      "cell_type": "code",
      "source": [
        "kf = sklearn.model_selection.KFold(n_splits=10)\n",
        "acc_kf = []  ## accuracy holder\n",
        "\n",
        "## Cross-validation\n",
        "for train_index, test_index in kf.split(train_set):\n",
        "    #print(\"TRAIN:\", train_index, \"TEST:\", test_index)\n",
        "    classifier = nltk.NaiveBayesClassifier.train(\n",
        "        train_set[train_index[0]:train_index[len(train_index) - 1]])\n",
        "    cur_fold_acc = nltk.classify.util.accuracy(\n",
        "        classifier, train_set[test_index[0]:test_index[len(test_index) - 1]])\n",
        "    acc_kf.append(cur_fold_acc)\n",
        "    print('accuracy:', np.round(cur_fold_acc, 2))"
      ],
      "metadata": {
        "colab": {
          "base_uri": "https://localhost:8080/"
        },
        "id": "Su15YRTafZIW",
        "outputId": "a760050a-411f-4ab7-d336-2cf6031aa9ff"
      },
      "execution_count": null,
      "outputs": [
        {
          "output_type": "stream",
          "name": "stdout",
          "text": [
            "accuracy: 0.81\n",
            "accuracy: 0.84\n",
            "accuracy: 0.82\n",
            "accuracy: 0.81\n",
            "accuracy: 0.81\n",
            "accuracy: 0.81\n",
            "accuracy: 0.84\n",
            "accuracy: 0.83\n",
            "accuracy: 0.8\n",
            "accuracy: 0.79\n"
          ]
        }
      ]
    },
    {
      "cell_type": "code",
      "source": [
        "np.mean(acc_kf)"
      ],
      "metadata": {
        "colab": {
          "base_uri": "https://localhost:8080/"
        },
        "id": "0kXNL2CcgbWe",
        "outputId": "efdcb8ac-12a5-4ea2-ac9f-38d6c238bfcd"
      },
      "execution_count": null,
      "outputs": [
        {
          "output_type": "execute_result",
          "data": {
            "text/plain": [
              "0.8170779428704501"
            ]
          },
          "metadata": {},
          "execution_count": 323
        }
      ]
    },
    {
      "cell_type": "markdown",
      "source": [
        "The resulting mean accuracy is approximately 0.8170, indicating the average accuracy of your model across all the folds."
      ],
      "metadata": {
        "id": "Hew_jBMphLS3"
      }
    },
    {
      "cell_type": "markdown",
      "source": [
        "### Naive Bayes"
      ],
      "metadata": {
        "id": "4S9GVlOW0OYR"
      }
    },
    {
      "cell_type": "code",
      "source": [
        "# Using sklearn naive bayes in nltk\n",
        "sk_classifier = SklearnClassifier(MultinomialNB())\n",
        "sk_classifier.train(train_set)"
      ],
      "metadata": {
        "colab": {
          "base_uri": "https://localhost:8080/"
        },
        "id": "R8J395Cx0Xns",
        "outputId": "2bcb1de1-85da-4cd0-9e23-8cb7002518d8"
      },
      "execution_count": null,
      "outputs": [
        {
          "output_type": "execute_result",
          "data": {
            "text/plain": [
              "<SklearnClassifier(MultinomialNB())>"
            ]
          },
          "metadata": {},
          "execution_count": 324
        }
      ]
    },
    {
      "cell_type": "code",
      "source": [
        "## evaluate model\n",
        "nltk.classify.accuracy(sk_classifier, test_set)"
      ],
      "metadata": {
        "colab": {
          "base_uri": "https://localhost:8080/"
        },
        "id": "6VP7FplN0cMx",
        "outputId": "8d653f06-49ea-4257-d7be-d9f0d204bc40"
      },
      "execution_count": null,
      "outputs": [
        {
          "output_type": "execute_result",
          "data": {
            "text/plain": [
              "0.786"
            ]
          },
          "metadata": {},
          "execution_count": 325
        }
      ]
    },
    {
      "cell_type": "markdown",
      "source": [
        "### Decision Tree"
      ],
      "metadata": {
        "id": "-kSWr_oEhl9b"
      }
    },
    {
      "cell_type": "markdown",
      "source": [
        "The %%time magic command is used to measure the execution time of the cell in which it is placed. Therefore, after running this cell, you'll get the execution time for training the decision tree model."
      ],
      "metadata": {
        "id": "UfYCdfh8itHv"
      }
    },
    {
      "cell_type": "code",
      "source": [
        "%%time\n",
        "## Train decision tree model\n",
        "classifier_dt = DecisionTreeClassifier.train(train_set,\n",
        "                                             binary=True,\n",
        "                                             entropy_cutoff=0.7,\n",
        "                                             depth_cutoff=5,\n",
        "                                             support_cutoff=5)"
      ],
      "metadata": {
        "colab": {
          "base_uri": "https://localhost:8080/"
        },
        "id": "x3FodpDNhjKv",
        "outputId": "99645681-71fd-4aac-cb46-2dbf27545b31"
      },
      "execution_count": null,
      "outputs": [
        {
          "output_type": "stream",
          "name": "stdout",
          "text": [
            "CPU times: user 41.9 s, sys: 109 ms, total: 42 s\n",
            "Wall time: 42.8 s\n"
          ]
        }
      ]
    },
    {
      "cell_type": "markdown",
      "source": [
        "This information can help you assess the performance of your model and its generalization ability across different subsets of the training data."
      ],
      "metadata": {
        "id": "OiouPeS5jKRb"
      }
    },
    {
      "cell_type": "code",
      "source": [
        "%%time\n",
        "## Cross validation on training\n",
        "for train_index, test_index in kf.split(train_set):\n",
        "    #print(\"TRAIN:\", train_index, \"TEST:\", test_index)\n",
        "    classifier = MaxentClassifier.train(\n",
        "        train_set[train_index[0]:train_index[len(train_index) - 1]],\n",
        "        algorithm='gis',\n",
        "        trace=0,\n",
        "        max_iter=100,\n",
        "        min_lldelta=0.01) ## set smaller value for `min_lldelta`\n",
        "    print(\n",
        "        'accuracy:',\n",
        "        nltk.classify.util.accuracy(\n",
        "            classifier,\n",
        "            train_set[test_index[0]:test_index[len(test_index) - 1]]))"
      ],
      "metadata": {
        "colab": {
          "base_uri": "https://localhost:8080/"
        },
        "id": "d4gOWwDiiCuX",
        "outputId": "ab12f44a-f31e-473d-8de0-186ac9c79a91"
      },
      "execution_count": null,
      "outputs": [
        {
          "output_type": "stream",
          "name": "stdout",
          "text": [
            "accuracy: 0.8126801152737753\n",
            "accuracy: 0.840057636887608\n",
            "accuracy: 0.8455988455988456\n",
            "accuracy: 0.8311688311688312\n",
            "accuracy: 0.8138528138528138\n",
            "accuracy: 0.8066378066378066\n",
            "accuracy: 0.84992784992785\n",
            "accuracy: 0.8383838383838383\n",
            "accuracy: 0.823953823953824\n",
            "accuracy: 0.8066378066378066\n",
            "CPU times: user 27.5 s, sys: 77.7 ms, total: 27.6 s\n",
            "Wall time: 27.8 s\n"
          ]
        }
      ]
    },
    {
      "cell_type": "markdown",
      "source": [
        "These accuracies represent the performance of the decision tree classifier on different subsets of the training data obtained through K-fold cross-validation. The values range from approximately 0.80 to 0.85, indicating variability in performance across different folds.\n",
        "\n",
        "Analyzing these accuracy values can provide insights into the robustness and generalization ability of your classifier."
      ],
      "metadata": {
        "id": "YLosXuNFjabp"
      }
    },
    {
      "cell_type": "code",
      "source": [
        "# Accuracy scores\n",
        "accuracy_scores = [0.8126801152737753, 0.840057636887608, 0.8455988455988456, 0.8311688311688312,\n",
        "                   0.8138528138528138, 0.8066378066378066, 0.84992784992785, 0.8383838383838383,\n",
        "                   0.823953823953824]\n",
        "\n",
        "# Convert accuracy scores to NumPy array\n",
        "accuracy_array = np.array(accuracy_scores)\n",
        "\n",
        "# Compute the mean accuracy\n",
        "mean_accuracy = np.mean(accuracy_array)\n",
        "print(\"Mean Accuracy:\", mean_accuracy)\n",
        "\n",
        "# Compute the standard deviation of accuracy\n",
        "std_dev_accuracy = np.std(accuracy_array)\n",
        "print(\"Standard Deviation of Accuracy:\", std_dev_accuracy)\n"
      ],
      "metadata": {
        "colab": {
          "base_uri": "https://localhost:8080/"
        },
        "id": "NeJAn0wOkYsX",
        "outputId": "797c2d99-5b7d-4de5-916f-c7bd29bd68b9"
      },
      "execution_count": null,
      "outputs": [
        {
          "output_type": "stream",
          "name": "stdout",
          "text": [
            "Mean Accuracy: 0.8291401735205769\n",
            "Standard Deviation of Accuracy: 0.01471831359443461\n"
          ]
        }
      ]
    },
    {
      "cell_type": "markdown",
      "source": [
        "Based on the provided accuracy scores, the mean accuracy across all folds of cross-validation is approximately 0.8291, and the standard deviation of the accuracy scores is approximately 0.0147.\n",
        "\n",
        "A higher mean accuracy coupled with a lower standard deviation suggests that your model performs relatively well and consistently across different folds of cross-validation."
      ],
      "metadata": {
        "id": "XcHHEK3olBa_"
      }
    },
    {
      "cell_type": "markdown",
      "source": [
        "### Entropy Classification"
      ],
      "metadata": {
        "id": "d-wH-b4E4ZYg"
      }
    },
    {
      "cell_type": "markdown",
      "source": [
        "The entropy function calculates the entropy of a list of labels. Entropy is a measure of uncertainty or disorder in a set of data. In the context of classification tasks, entropy is used to quantify the impurity of a collection of labels."
      ],
      "metadata": {
        "id": "ou41Zt6qEu_2"
      }
    },
    {
      "cell_type": "code",
      "source": [
        "def entropy(labels):\n",
        "    freqdist = nltk.FreqDist(labels)\n",
        "    probs = [freqdist.freq(l) for l in freqdist]\n",
        "    return -sum(p * math.log(p,2) for p in probs)"
      ],
      "metadata": {
        "id": "ugyNLanT48yv"
      },
      "execution_count": null,
      "outputs": []
    },
    {
      "cell_type": "code",
      "source": [
        "print(entropy(['male', 'male', 'male', 'male']))"
      ],
      "metadata": {
        "colab": {
          "base_uri": "https://localhost:8080/"
        },
        "id": "YUb9yfe26z_v",
        "outputId": "3314e4f4-fd6b-47d5-c88d-8d8ddb3235ca"
      },
      "execution_count": null,
      "outputs": [
        {
          "output_type": "stream",
          "name": "stdout",
          "text": [
            "-0.0\n"
          ]
        }
      ]
    },
    {
      "cell_type": "code",
      "source": [
        "print(entropy(['male', 'female', 'male', 'male']))"
      ],
      "metadata": {
        "colab": {
          "base_uri": "https://localhost:8080/"
        },
        "id": "rOBKpO6o65Lh",
        "outputId": "38b58653-802d-4d09-ce7f-04101bf619c2"
      },
      "execution_count": null,
      "outputs": [
        {
          "output_type": "stream",
          "name": "stdout",
          "text": [
            "0.8112781244591328\n"
          ]
        }
      ]
    },
    {
      "cell_type": "code",
      "source": [
        "print(entropy(['female', 'male', 'female', 'male']))"
      ],
      "metadata": {
        "colab": {
          "base_uri": "https://localhost:8080/"
        },
        "id": "PiB2A-NU7FFf",
        "outputId": "f9b8342b-dee5-4ff6-8a3b-c25f43ea4416"
      },
      "execution_count": null,
      "outputs": [
        {
          "output_type": "stream",
          "name": "stdout",
          "text": [
            "1.0\n"
          ]
        }
      ]
    },
    {
      "cell_type": "code",
      "source": [
        "print(entropy(['female', 'female', 'male', 'female']))"
      ],
      "metadata": {
        "colab": {
          "base_uri": "https://localhost:8080/"
        },
        "id": "NxoZ02s27LGL",
        "outputId": "5fa17487-3ca7-4af8-c60a-da19317000bf"
      },
      "execution_count": null,
      "outputs": [
        {
          "output_type": "stream",
          "name": "stdout",
          "text": [
            "0.8112781244591328\n"
          ]
        }
      ]
    },
    {
      "cell_type": "code",
      "source": [
        "print(entropy(['female', 'female', 'female', 'female']))"
      ],
      "metadata": {
        "colab": {
          "base_uri": "https://localhost:8080/"
        },
        "id": "44CaqnLe7VAK",
        "outputId": "ac35402f-05ac-469d-f6c4-3332f4c21976"
      },
      "execution_count": null,
      "outputs": [
        {
          "output_type": "stream",
          "name": "stdout",
          "text": [
            "-0.0\n"
          ]
        }
      ]
    },
    {
      "cell_type": "markdown",
      "source": [
        "print(entropy(['male', 'male', 'male', 'male'])): In this case, there is only one unique label ('male'), so the entropy is 0 since there is no uncertainty.\n",
        "\n",
        "print(entropy(['male', 'female', 'male', 'male'])): In this case, there are two unique labels ('male' and 'female'). The entropy is approximately 0.811, indicating some level of uncertainty or impurity in the label distribution.\n",
        "\n",
        "print(entropy(['female', 'male', 'female', 'male'])): Similar to the previous case, there are two unique labels ('male' and 'female'), resulting in an entropy of approximately 1.0.\n",
        "\n",
        "print(entropy(['female', 'female', 'male', 'female'])): Again, two unique labels ('male' and 'female'), resulting in an entropy of approximately 0.811.\n",
        "\n",
        "print(entropy(['female', 'female', 'female', 'female'])): In this case, there is only one unique label ('female'), so the entropy is 0 since there is no uncertainty.\n",
        "\n",
        "Entropy measures the uncertainty or randomness in a set of labels. A higher entropy suggests more uncertainty or mixed labels, whereas a lower entropy indicates more uniformity or consistent labels."
      ],
      "metadata": {
        "id": "mMdOunCOFG-N"
      }
    },
    {
      "cell_type": "code",
      "source": [
        "# Entropy results\n",
        "entropy_results = [0.0, 0.8112781244591328, 1.0, 0.8112781244591328, 0.0]\n",
        "\n",
        "# Calculate the mean\n",
        "mean_entropy = sum(entropy_results) / len(entropy_results)\n",
        "print(\"Mean Entropy:\", mean_entropy)\n"
      ],
      "metadata": {
        "colab": {
          "base_uri": "https://localhost:8080/"
        },
        "id": "y5RVoQsmF9HN",
        "outputId": "580289eb-4273-4d43-ad47-e9a1e0249e26"
      },
      "execution_count": null,
      "outputs": [
        {
          "output_type": "stream",
          "name": "stdout",
          "text": [
            "Mean Entropy: 0.5245112497836532\n"
          ]
        }
      ]
    },
    {
      "cell_type": "markdown",
      "source": [
        "The mean entropy value of 0.5245 indicates the average level of uncertainty or disorder across the given collection of label distributions. This suggests that, on average, the label distributions have a moderate level of uncertainty or impurity."
      ],
      "metadata": {
        "id": "p6z1yAKIGMtr"
      }
    },
    {
      "cell_type": "markdown",
      "source": [
        "## Conclusion"
      ],
      "metadata": {
        "id": "3SbwTR3ccfAv"
      }
    },
    {
      "cell_type": "code",
      "source": [
        "df_test_set_accuracy = pd.DataFrame({\n",
        "    'classifier': ['naive bayes', 'decision tree'],\n",
        "    'accuracy': [0.786, 0.8291]\n",
        "})\n",
        "\n",
        "# Sorting values\n",
        "df_test_set_accuracy = df_test_set_accuracy.sort_values(by='accuracy', ascending=False)\n",
        "\n",
        "# Setting Seaborn style\n",
        "sns.set(style='whitegrid')\n",
        "\n",
        "# Creating the barplot\n",
        "ax = sns.barplot(x='accuracy', y='classifier', data=df_test_set_accuracy)\n",
        "\n",
        "# Setting title\n",
        "ax.set_title('Test Set Accuracy')\n",
        "\n",
        "# Loop through the bars and annotate the percentage on each bar\n",
        "for p in ax.patches:\n",
        "    width = p.get_width()    # get bar length\n",
        "    ax.text(width + 0.01,       # set the text at 1 unit right of the bar\n",
        "            p.get_y() + p.get_height() / 2,  # get Y coordinate + half of the bar height\n",
        "            '{:1.2f}%'.format(width*100), # set variable to display, 2 decimals\n",
        "            ha = 'left',   # horizontal alignment\n",
        "            va = 'center')  # vertical alignment\n",
        "\n",
        "plt.show()\n"
      ],
      "metadata": {
        "colab": {
          "base_uri": "https://localhost:8080/"
        },
        "id": "2zc_kcz-2FoC",
        "outputId": "abf95d0d-a817-4d1a-e50a-8709821163fc"
      },
      "execution_count": null,
      "outputs": [
        {
          "output_type": "display_data",
          "data": {
            "text/plain": [
              "<Figure size 640x480 with 1 Axes>"
            ],
            "image/png": "[encoded data removed]"
          },
          "metadata": {}
        }
      ]
    },
    {
      "cell_type": "markdown",
      "source": [
        "The decision tree has an accuracy of 82.91%, while naive Bayes has an accuracy of 78.60%. Therefore, the decision tree performs better in terms of accuracy."
      ],
      "metadata": {
        "id": "viigbCHLDdFR"
      }
    }
  ]
}